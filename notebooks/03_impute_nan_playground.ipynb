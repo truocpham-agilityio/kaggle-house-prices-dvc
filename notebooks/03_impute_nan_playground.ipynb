{
 "cells": [
  {
   "cell_type": "markdown",
   "id": "b17fe053-ad0b-4a6f-adb3-43b74feb69d3",
   "metadata": {},
   "source": [
    "# Importing Libraries"
   ]
  },
  {
   "cell_type": "code",
   "execution_count": 1,
   "id": "d6fd1d39-8eb8-4838-b6a7-29a328d70a49",
   "metadata": {},
   "outputs": [
    {
     "name": "stderr",
     "output_type": "stream",
     "text": [
      "/Users/Truoc_Pham/Documents/kaggle-house-prices-dvc/venv37/lib/python3.7/site-packages/pandas/compat/__init__.py:120: UserWarning: Could not import the lzma module. Your installed Python is incomplete. Attempting to use lzma compression will result in a RuntimeError.\n",
      "  warnings.warn(msg)\n"
     ]
    }
   ],
   "source": [
    "import os\n",
    "from pathlib import Path\n",
    "\n",
    "# data manipulation\n",
    "import pandas as pd\n",
    "import numpy as np\n",
    "np.set_printoptions(suppress=True)\n",
    "\n",
    "# plotting\n",
    "import seaborn as sn\n",
    "import matplotlib.pyplot as plt\n",
    "%matplotlib inline\n",
    "\n",
    "import yaml\n",
    "\n",
    "from sklearn.impute import SimpleImputer\n",
    "from sklearn.preprocessing import LabelEncoder\n",
    "from sklearn.preprocessing import OneHotEncoder\n",
    "from sklearn.preprocessing import LabelBinarizer"
   ]
  },
  {
   "cell_type": "markdown",
   "id": "497ef52b-4777-4e9a-a1af-df01d83613c0",
   "metadata": {},
   "source": [
    "# Load categorized dataset"
   ]
  },
  {
   "cell_type": "code",
   "execution_count": 2,
   "id": "ba425fff-d54d-47bb-8172-b9c3bde40a58",
   "metadata": {},
   "outputs": [],
   "source": [
    "train_df = pd.read_csv('../data/interim/train_categorized.csv')\n",
    "test_df = pd.read_csv('../data/interim/test_categorized.csv')"
   ]
  },
  {
   "cell_type": "code",
   "execution_count": 3,
   "id": "198888e7-5ca4-4df5-a545-55b96a1fa917",
   "metadata": {},
   "outputs": [
    {
     "data": {
      "text/plain": [
       "((1460, 297), (1459, 297))"
      ]
     },
     "execution_count": 3,
     "metadata": {},
     "output_type": "execute_result"
    }
   ],
   "source": [
    "train_df.shape, test_df.shape"
   ]
  },
  {
   "cell_type": "code",
   "execution_count": 4,
   "id": "03229d24-c0f3-41b3-8a84-d34cc5ed639e",
   "metadata": {},
   "outputs": [
    {
     "data": {
      "text/html": [
       "<div>\n",
       "<style scoped>\n",
       "    .dataframe tbody tr th:only-of-type {\n",
       "        vertical-align: middle;\n",
       "    }\n",
       "\n",
       "    .dataframe tbody tr th {\n",
       "        vertical-align: top;\n",
       "    }\n",
       "\n",
       "    .dataframe thead th {\n",
       "        text-align: right;\n",
       "    }\n",
       "</style>\n",
       "<table border=\"1\" class=\"dataframe\">\n",
       "  <thead>\n",
       "    <tr style=\"text-align: right;\">\n",
       "      <th></th>\n",
       "      <th>Id</th>\n",
       "      <th>MSSubClass</th>\n",
       "      <th>MSZoning</th>\n",
       "      <th>LotFrontage</th>\n",
       "      <th>LotArea</th>\n",
       "      <th>Street</th>\n",
       "      <th>Alley</th>\n",
       "      <th>LotShape</th>\n",
       "      <th>LandContour</th>\n",
       "      <th>Utilities</th>\n",
       "      <th>...</th>\n",
       "      <th>New</th>\n",
       "      <th>Oth</th>\n",
       "      <th>WD</th>\n",
       "      <th>SaleCondition_label</th>\n",
       "      <th>Abnorml</th>\n",
       "      <th>AdjLand</th>\n",
       "      <th>Alloca</th>\n",
       "      <th>Family</th>\n",
       "      <th>Normal</th>\n",
       "      <th>Partial</th>\n",
       "    </tr>\n",
       "  </thead>\n",
       "  <tbody>\n",
       "    <tr>\n",
       "      <th>0</th>\n",
       "      <td>1</td>\n",
       "      <td>60</td>\n",
       "      <td>RL</td>\n",
       "      <td>65.0</td>\n",
       "      <td>8450</td>\n",
       "      <td>Pave</td>\n",
       "      <td>None</td>\n",
       "      <td>Reg</td>\n",
       "      <td>Lvl</td>\n",
       "      <td>AllPub</td>\n",
       "      <td>...</td>\n",
       "      <td>0.0</td>\n",
       "      <td>0.0</td>\n",
       "      <td>1.0</td>\n",
       "      <td>4</td>\n",
       "      <td>0.0</td>\n",
       "      <td>0.0</td>\n",
       "      <td>0.0</td>\n",
       "      <td>0.0</td>\n",
       "      <td>1.0</td>\n",
       "      <td>0.0</td>\n",
       "    </tr>\n",
       "    <tr>\n",
       "      <th>1</th>\n",
       "      <td>2</td>\n",
       "      <td>20</td>\n",
       "      <td>RL</td>\n",
       "      <td>80.0</td>\n",
       "      <td>9600</td>\n",
       "      <td>Pave</td>\n",
       "      <td>None</td>\n",
       "      <td>Reg</td>\n",
       "      <td>Lvl</td>\n",
       "      <td>AllPub</td>\n",
       "      <td>...</td>\n",
       "      <td>0.0</td>\n",
       "      <td>0.0</td>\n",
       "      <td>1.0</td>\n",
       "      <td>4</td>\n",
       "      <td>0.0</td>\n",
       "      <td>0.0</td>\n",
       "      <td>0.0</td>\n",
       "      <td>0.0</td>\n",
       "      <td>1.0</td>\n",
       "      <td>0.0</td>\n",
       "    </tr>\n",
       "    <tr>\n",
       "      <th>2</th>\n",
       "      <td>3</td>\n",
       "      <td>60</td>\n",
       "      <td>RL</td>\n",
       "      <td>68.0</td>\n",
       "      <td>11250</td>\n",
       "      <td>Pave</td>\n",
       "      <td>None</td>\n",
       "      <td>IR1</td>\n",
       "      <td>Lvl</td>\n",
       "      <td>AllPub</td>\n",
       "      <td>...</td>\n",
       "      <td>0.0</td>\n",
       "      <td>0.0</td>\n",
       "      <td>1.0</td>\n",
       "      <td>4</td>\n",
       "      <td>0.0</td>\n",
       "      <td>0.0</td>\n",
       "      <td>0.0</td>\n",
       "      <td>0.0</td>\n",
       "      <td>1.0</td>\n",
       "      <td>0.0</td>\n",
       "    </tr>\n",
       "    <tr>\n",
       "      <th>3</th>\n",
       "      <td>4</td>\n",
       "      <td>70</td>\n",
       "      <td>RL</td>\n",
       "      <td>60.0</td>\n",
       "      <td>9550</td>\n",
       "      <td>Pave</td>\n",
       "      <td>None</td>\n",
       "      <td>IR1</td>\n",
       "      <td>Lvl</td>\n",
       "      <td>AllPub</td>\n",
       "      <td>...</td>\n",
       "      <td>0.0</td>\n",
       "      <td>0.0</td>\n",
       "      <td>1.0</td>\n",
       "      <td>0</td>\n",
       "      <td>1.0</td>\n",
       "      <td>0.0</td>\n",
       "      <td>0.0</td>\n",
       "      <td>0.0</td>\n",
       "      <td>0.0</td>\n",
       "      <td>0.0</td>\n",
       "    </tr>\n",
       "    <tr>\n",
       "      <th>4</th>\n",
       "      <td>5</td>\n",
       "      <td>60</td>\n",
       "      <td>RL</td>\n",
       "      <td>84.0</td>\n",
       "      <td>14260</td>\n",
       "      <td>Pave</td>\n",
       "      <td>None</td>\n",
       "      <td>IR1</td>\n",
       "      <td>Lvl</td>\n",
       "      <td>AllPub</td>\n",
       "      <td>...</td>\n",
       "      <td>0.0</td>\n",
       "      <td>0.0</td>\n",
       "      <td>1.0</td>\n",
       "      <td>4</td>\n",
       "      <td>0.0</td>\n",
       "      <td>0.0</td>\n",
       "      <td>0.0</td>\n",
       "      <td>0.0</td>\n",
       "      <td>1.0</td>\n",
       "      <td>0.0</td>\n",
       "    </tr>\n",
       "  </tbody>\n",
       "</table>\n",
       "<p>5 rows × 297 columns</p>\n",
       "</div>"
      ],
      "text/plain": [
       "   Id  MSSubClass MSZoning  LotFrontage  LotArea Street Alley LotShape  \\\n",
       "0   1          60       RL         65.0     8450   Pave  None      Reg   \n",
       "1   2          20       RL         80.0     9600   Pave  None      Reg   \n",
       "2   3          60       RL         68.0    11250   Pave  None      IR1   \n",
       "3   4          70       RL         60.0     9550   Pave  None      IR1   \n",
       "4   5          60       RL         84.0    14260   Pave  None      IR1   \n",
       "\n",
       "  LandContour Utilities  ...  New  Oth   WD SaleCondition_label Abnorml  \\\n",
       "0         Lvl    AllPub  ...  0.0  0.0  1.0                   4     0.0   \n",
       "1         Lvl    AllPub  ...  0.0  0.0  1.0                   4     0.0   \n",
       "2         Lvl    AllPub  ...  0.0  0.0  1.0                   4     0.0   \n",
       "3         Lvl    AllPub  ...  0.0  0.0  1.0                   0     1.0   \n",
       "4         Lvl    AllPub  ...  0.0  0.0  1.0                   4     0.0   \n",
       "\n",
       "  AdjLand Alloca  Family  Normal  Partial  \n",
       "0     0.0    0.0     0.0     1.0      0.0  \n",
       "1     0.0    0.0     0.0     1.0      0.0  \n",
       "2     0.0    0.0     0.0     1.0      0.0  \n",
       "3     0.0    0.0     0.0     0.0      0.0  \n",
       "4     0.0    0.0     0.0     1.0      0.0  \n",
       "\n",
       "[5 rows x 297 columns]"
      ]
     },
     "execution_count": 4,
     "metadata": {},
     "output_type": "execute_result"
    }
   ],
   "source": [
    "train_df.head()"
   ]
  },
  {
   "cell_type": "markdown",
   "id": "80b6a0ef-a0f4-4be1-a9e1-2f055e803af9",
   "metadata": {},
   "source": [
    "# Replace NaN"
   ]
  },
  {
   "cell_type": "markdown",
   "id": "b66b0e32-dc3f-4299-b66c-6e0aca70d472",
   "metadata": {},
   "source": [
    "## Numerical"
   ]
  },
  {
   "cell_type": "code",
   "execution_count": 5,
   "id": "7d06208c-c0c2-4637-a1dd-e6f5542f14c2",
   "metadata": {},
   "outputs": [],
   "source": [
    "def is_missing(df, columns):\n",
    "    \"\"\"Helper function to check missing values on dataset\"\"\"\n",
    "    for column in columns:\n",
    "        if df[column].isnull().values.any():\n",
    "            return True\n",
    "        else:\n",
    "            return False"
   ]
  },
  {
   "cell_type": "code",
   "execution_count": 6,
   "id": "b0316cc9-2b74-4050-9d44-78dc3a626694",
   "metadata": {},
   "outputs": [],
   "source": [
    "def load_params(filepath='params.yaml') -> dict:\n",
    "    \"\"\"Helper function to load params.yaml\n",
    "\n",
    "    Args:\n",
    "        filepath (str): filename or full filepath to yaml file with parameters\n",
    "\n",
    "    Returns:\n",
    "        dict: dictionary of parameters\n",
    "    \"\"\"\n",
    "\n",
    "    assert (os.path.isfile(filepath)), FileNotFoundError\n",
    "\n",
    "    # read params.yaml\n",
    "    with open(filepath, 'r') as file:\n",
    "        params = yaml.safe_load(file)\n",
    "\n",
    "    return params"
   ]
  },
  {
   "cell_type": "code",
   "execution_count": 7,
   "id": "e766084e-9ca1-4c3e-a04f-25e24704ea93",
   "metadata": {},
   "outputs": [],
   "source": [
    "params = load_params('../params.yaml')"
   ]
  },
  {
   "cell_type": "code",
   "execution_count": 8,
   "id": "1343d03b-4a3f-40df-b61c-f5a3504169cb",
   "metadata": {},
   "outputs": [
    {
     "data": {
      "text/plain": [
       "['Id', 'SalePrice']"
      ]
     },
     "execution_count": 8,
     "metadata": {},
     "output_type": "execute_result"
    }
   ],
   "source": [
    "params['ignore_cols']"
   ]
  },
  {
   "cell_type": "code",
   "execution_count": 9,
   "id": "92f12827-bdae-4687-b2d3-269edb84d46d",
   "metadata": {},
   "outputs": [
    {
     "data": {
      "text/plain": [
       "'mean'"
      ]
     },
     "execution_count": 9,
     "metadata": {},
     "output_type": "execute_result"
    }
   ],
   "source": [
    "params['imputation']['method']"
   ]
  },
  {
   "cell_type": "code",
   "execution_count": 10,
   "id": "2d7d67c3-3e7f-4791-bed4-ec6536ffa1de",
   "metadata": {},
   "outputs": [],
   "source": [
    "# concatenate df\n",
    "df = pd.concat([train_df, test_df], ignore_index=True)\n",
    "\n",
    "# fill NaNs with the default strategy is mean\n",
    "num_cols = df.select_dtypes(include=[np.number]).columns.difference(params['ignore_cols'])\n",
    "imputer = SimpleImputer(missing_values=np.NaN, strategy=params['imputation']['method'])\n",
    "for col in num_cols:\n",
    "    # fit imputing with numerical column\n",
    "    imputer = imputer.fit(df[[col]])\n",
    "\n",
    "    # assign imputed value for numerical column\n",
    "    df[col] = imputer.transform(df[[col]]).ravel()\n",
    "\n",
    "# make sure no missing values\n",
    "assert (not is_missing(df, df.columns)), AssertionError\n",
    "\n",
    "# return datasets to train and test\n",
    "n_train = train_df.shape[0]\n",
    "train_df = df[:n_train]\n",
    "test_df = df[n_train:]"
   ]
  },
  {
   "cell_type": "code",
   "execution_count": 11,
   "id": "4f76b858-e4c4-4887-91f0-3e218a18d627",
   "metadata": {},
   "outputs": [
    {
     "data": {
      "text/plain": [
       "((1460, 297), (1459, 297))"
      ]
     },
     "execution_count": 11,
     "metadata": {},
     "output_type": "execute_result"
    }
   ],
   "source": [
    "train_df.shape, test_df.shape"
   ]
  },
  {
   "cell_type": "code",
   "execution_count": 12,
   "id": "1eaf69aa-08da-4495-8aba-1f83705c4847",
   "metadata": {},
   "outputs": [
    {
     "data": {
      "text/html": [
       "<div>\n",
       "<style scoped>\n",
       "    .dataframe tbody tr th:only-of-type {\n",
       "        vertical-align: middle;\n",
       "    }\n",
       "\n",
       "    .dataframe tbody tr th {\n",
       "        vertical-align: top;\n",
       "    }\n",
       "\n",
       "    .dataframe thead th {\n",
       "        text-align: right;\n",
       "    }\n",
       "</style>\n",
       "<table border=\"1\" class=\"dataframe\">\n",
       "  <thead>\n",
       "    <tr style=\"text-align: right;\">\n",
       "      <th></th>\n",
       "      <th>Id</th>\n",
       "      <th>MSSubClass</th>\n",
       "      <th>MSZoning</th>\n",
       "      <th>LotFrontage</th>\n",
       "      <th>LotArea</th>\n",
       "      <th>Street</th>\n",
       "      <th>Alley</th>\n",
       "      <th>LotShape</th>\n",
       "      <th>LandContour</th>\n",
       "      <th>Utilities</th>\n",
       "      <th>...</th>\n",
       "      <th>New</th>\n",
       "      <th>Oth</th>\n",
       "      <th>WD</th>\n",
       "      <th>SaleCondition_label</th>\n",
       "      <th>Abnorml</th>\n",
       "      <th>AdjLand</th>\n",
       "      <th>Alloca</th>\n",
       "      <th>Family</th>\n",
       "      <th>Normal</th>\n",
       "      <th>Partial</th>\n",
       "    </tr>\n",
       "  </thead>\n",
       "  <tbody>\n",
       "    <tr>\n",
       "      <th>0</th>\n",
       "      <td>1</td>\n",
       "      <td>60.0</td>\n",
       "      <td>RL</td>\n",
       "      <td>65.0</td>\n",
       "      <td>8450.0</td>\n",
       "      <td>Pave</td>\n",
       "      <td>None</td>\n",
       "      <td>Reg</td>\n",
       "      <td>Lvl</td>\n",
       "      <td>AllPub</td>\n",
       "      <td>...</td>\n",
       "      <td>0.0</td>\n",
       "      <td>0.0</td>\n",
       "      <td>1.0</td>\n",
       "      <td>4.0</td>\n",
       "      <td>0.0</td>\n",
       "      <td>0.0</td>\n",
       "      <td>0.0</td>\n",
       "      <td>0.0</td>\n",
       "      <td>1.0</td>\n",
       "      <td>0.0</td>\n",
       "    </tr>\n",
       "    <tr>\n",
       "      <th>1</th>\n",
       "      <td>2</td>\n",
       "      <td>20.0</td>\n",
       "      <td>RL</td>\n",
       "      <td>80.0</td>\n",
       "      <td>9600.0</td>\n",
       "      <td>Pave</td>\n",
       "      <td>None</td>\n",
       "      <td>Reg</td>\n",
       "      <td>Lvl</td>\n",
       "      <td>AllPub</td>\n",
       "      <td>...</td>\n",
       "      <td>0.0</td>\n",
       "      <td>0.0</td>\n",
       "      <td>1.0</td>\n",
       "      <td>4.0</td>\n",
       "      <td>0.0</td>\n",
       "      <td>0.0</td>\n",
       "      <td>0.0</td>\n",
       "      <td>0.0</td>\n",
       "      <td>1.0</td>\n",
       "      <td>0.0</td>\n",
       "    </tr>\n",
       "    <tr>\n",
       "      <th>2</th>\n",
       "      <td>3</td>\n",
       "      <td>60.0</td>\n",
       "      <td>RL</td>\n",
       "      <td>68.0</td>\n",
       "      <td>11250.0</td>\n",
       "      <td>Pave</td>\n",
       "      <td>None</td>\n",
       "      <td>IR1</td>\n",
       "      <td>Lvl</td>\n",
       "      <td>AllPub</td>\n",
       "      <td>...</td>\n",
       "      <td>0.0</td>\n",
       "      <td>0.0</td>\n",
       "      <td>1.0</td>\n",
       "      <td>4.0</td>\n",
       "      <td>0.0</td>\n",
       "      <td>0.0</td>\n",
       "      <td>0.0</td>\n",
       "      <td>0.0</td>\n",
       "      <td>1.0</td>\n",
       "      <td>0.0</td>\n",
       "    </tr>\n",
       "    <tr>\n",
       "      <th>3</th>\n",
       "      <td>4</td>\n",
       "      <td>70.0</td>\n",
       "      <td>RL</td>\n",
       "      <td>60.0</td>\n",
       "      <td>9550.0</td>\n",
       "      <td>Pave</td>\n",
       "      <td>None</td>\n",
       "      <td>IR1</td>\n",
       "      <td>Lvl</td>\n",
       "      <td>AllPub</td>\n",
       "      <td>...</td>\n",
       "      <td>0.0</td>\n",
       "      <td>0.0</td>\n",
       "      <td>1.0</td>\n",
       "      <td>0.0</td>\n",
       "      <td>1.0</td>\n",
       "      <td>0.0</td>\n",
       "      <td>0.0</td>\n",
       "      <td>0.0</td>\n",
       "      <td>0.0</td>\n",
       "      <td>0.0</td>\n",
       "    </tr>\n",
       "    <tr>\n",
       "      <th>4</th>\n",
       "      <td>5</td>\n",
       "      <td>60.0</td>\n",
       "      <td>RL</td>\n",
       "      <td>84.0</td>\n",
       "      <td>14260.0</td>\n",
       "      <td>Pave</td>\n",
       "      <td>None</td>\n",
       "      <td>IR1</td>\n",
       "      <td>Lvl</td>\n",
       "      <td>AllPub</td>\n",
       "      <td>...</td>\n",
       "      <td>0.0</td>\n",
       "      <td>0.0</td>\n",
       "      <td>1.0</td>\n",
       "      <td>4.0</td>\n",
       "      <td>0.0</td>\n",
       "      <td>0.0</td>\n",
       "      <td>0.0</td>\n",
       "      <td>0.0</td>\n",
       "      <td>1.0</td>\n",
       "      <td>0.0</td>\n",
       "    </tr>\n",
       "  </tbody>\n",
       "</table>\n",
       "<p>5 rows × 297 columns</p>\n",
       "</div>"
      ],
      "text/plain": [
       "   Id  MSSubClass MSZoning  LotFrontage  LotArea Street Alley LotShape  \\\n",
       "0   1        60.0       RL         65.0   8450.0   Pave  None      Reg   \n",
       "1   2        20.0       RL         80.0   9600.0   Pave  None      Reg   \n",
       "2   3        60.0       RL         68.0  11250.0   Pave  None      IR1   \n",
       "3   4        70.0       RL         60.0   9550.0   Pave  None      IR1   \n",
       "4   5        60.0       RL         84.0  14260.0   Pave  None      IR1   \n",
       "\n",
       "  LandContour Utilities  ...  New  Oth   WD SaleCondition_label Abnorml  \\\n",
       "0         Lvl    AllPub  ...  0.0  0.0  1.0                 4.0     0.0   \n",
       "1         Lvl    AllPub  ...  0.0  0.0  1.0                 4.0     0.0   \n",
       "2         Lvl    AllPub  ...  0.0  0.0  1.0                 4.0     0.0   \n",
       "3         Lvl    AllPub  ...  0.0  0.0  1.0                 0.0     1.0   \n",
       "4         Lvl    AllPub  ...  0.0  0.0  1.0                 4.0     0.0   \n",
       "\n",
       "  AdjLand Alloca  Family  Normal  Partial  \n",
       "0     0.0    0.0     0.0     1.0      0.0  \n",
       "1     0.0    0.0     0.0     1.0      0.0  \n",
       "2     0.0    0.0     0.0     1.0      0.0  \n",
       "3     0.0    0.0     0.0     0.0      0.0  \n",
       "4     0.0    0.0     0.0     1.0      0.0  \n",
       "\n",
       "[5 rows x 297 columns]"
      ]
     },
     "execution_count": 12,
     "metadata": {},
     "output_type": "execute_result"
    }
   ],
   "source": [
    "train_df.head()"
   ]
  },
  {
   "cell_type": "code",
   "execution_count": 5,
   "id": "6e4ff618-d0f0-448d-9864-d338fffbee88",
   "metadata": {},
   "outputs": [],
   "source": [
    "train_df = replace_num_missing(train_df)"
   ]
  },
  {
   "cell_type": "code",
   "execution_count": 6,
   "id": "040cc046-2f95-47d9-b643-70a4d0e5ff31",
   "metadata": {},
   "outputs": [],
   "source": [
    "test_df = replace_num_missing(test_df)"
   ]
  },
  {
   "cell_type": "code",
   "execution_count": null,
   "id": "323038b6-374a-44fb-866f-be3b94cf68b3",
   "metadata": {},
   "outputs": [],
   "source": []
  },
  {
   "cell_type": "code",
   "execution_count": 13,
   "id": "a254a8f3-33a1-40fd-bfb6-e1aa8f746ded",
   "metadata": {},
   "outputs": [
    {
     "name": "stdout",
     "output_type": "stream",
     "text": [
      "=== Missing Train Data Stats ===\n",
      "Numerical Missing Values:\n",
      "=========================\n",
      "=========================\n"
     ]
    }
   ],
   "source": [
    "train_total_missing = train_df.isnull().sum().sort_values(ascending=False)\n",
    "train_ratio_missing = (train_df.isnull().sum()/train_df.isnull().count()).sort_values(ascending=False)\n",
    "missing_train_data = pd.concat([train_total_missing, train_ratio_missing], axis=1, keys=['Total', 'Ratio'])\n",
    "missing_train_data['Type'] = train_df[missing_train_data.index].dtypes\n",
    "\n",
    "missing_train_data = missing_train_data[(missing_train_data['Total'] > 0)]\n",
    "\n",
    "# view missing data stats\n",
    "print('=== Missing Train Data Stats ===')\n",
    "missing_train_data\n",
    "\n",
    "print('Numerical Missing Values:')\n",
    "print('=========================')\n",
    "[print(col_missing,  '\\t', missing_train_data['Total'][col_missing], 'NaNs') \\\n",
    " for col_missing in missing_train_data[(missing_train_data['Total'] > 0) & \\\n",
    "                                 (missing_train_data['Type'] != 'object')].index.values]\n",
    "print('=========================')"
   ]
  },
  {
   "cell_type": "code",
   "execution_count": 14,
   "id": "2450a5da-366f-4b9f-8cbf-10a815a8de52",
   "metadata": {},
   "outputs": [
    {
     "name": "stdout",
     "output_type": "stream",
     "text": [
      "==========================\n",
      "Missing counter 0\n"
     ]
    }
   ],
   "source": [
    "# Statistics missing values of train after impute\n",
    "# Count unique missing value of each column\n",
    "count = 0\n",
    "for col in train_df.columns:\n",
    "    if train_df[col].isnull().values.any():\n",
    "        print(col)\n",
    "        print(train_df[col].isnull().sum())\n",
    "        count += 1\n",
    "        \n",
    "print('==========================')\n",
    "print('Missing counter %d' % count)"
   ]
  }
 ],
 "metadata": {
  "kernelspec": {
   "display_name": "Python 3 (ipykernel)",
   "language": "python",
   "name": "python3"
  },
  "language_info": {
   "codemirror_mode": {
    "name": "ipython",
    "version": 3
   },
   "file_extension": ".py",
   "mimetype": "text/x-python",
   "name": "python",
   "nbconvert_exporter": "python",
   "pygments_lexer": "ipython3",
   "version": "3.7.3"
  }
 },
 "nbformat": 4,
 "nbformat_minor": 5
}
